{
 "cells": [
  {
   "metadata": {
    "ExecuteTime": {
     "end_time": "2025-05-27T06:55:51.843338Z",
     "start_time": "2025-05-27T06:55:49.011256Z"
    }
   },
   "cell_type": "code",
   "source": [
    "import os\n",
    "import pandas as pd\n",
    "from Bio import SeqIO\n",
    "import gzip\n",
    "import os\n",
    "\n",
    "genome_dir = \"data/zebrafishGenome\"\n",
    "chr_file = os.path.join(genome_dir, f\"Danio_rerio.GRCz11.dna.chromosome.1.fa.gz\")\n",
    "\n",
    "with gzip.open(chr_file, \"rt\") as handle:\n",
    "    for record in SeqIO.parse(handle, \"fasta\"):\n",
    "        # ensembl_havana\tstart_codon\t22834683\t22834685\t.\t-\t0\tgene_id \"ENSDARG00000034896\";\n",
    "        seq = record.seq[22834683-1:22834685] # start - ENSDARG00000034896\n",
    "        print(\"- start\", seq)\n",
    "        seq = record.seq[22834683-5:22834685+5] # start - ENSDARG00000034896\n",
    "        print(\"- start\", seq)\n",
    "        # ensembl_havana\tstop_codon\t22808685\t22808687\t.\t-\t0\tgene_id \"ENSDARG00000034896\"\n",
    "        seq = record.seq[22808685-1:22808687]\n",
    "        print(\"- end\", seq)\n",
    "        seq = record.seq[22808685-5:22808687+5]\n",
    "        print(\"- end\", seq)\n",
    "\n",
    "        # havana\tstart_codon\t49652967\t49652969\t.\t+\t0\tgene_id \"ENSDARG00000052512\"\n",
    "        seq = record.seq[49652967-1:49652969] # start + ENSDARG00000052512\n",
    "        print(\"+ start\", seq)\n",
    "        seq = record.seq[49652967-5:49652969+5] # start + ENSDARG00000052512\n",
    "        print(\"+ start\", seq)\n",
    "        # havana\tstop_codon\t49673886\t49673888\t.\t+\t0\tgene_id \"ENSDARG00000052512\"\n",
    "        seq = record.seq[49673886-1:49673888] # start + ENSDARG00000052512\n",
    "        print(\"+ end\", seq)\n",
    "        seq = record.seq[49673886-5:49673888+5] # start + ENSDARG00000052512\n",
    "        print(\"+ end\", seq)\n",
    "\n",
    "        # ensembl\tstart_codon\t49653487\t49653489\t.\t+\t0\tgene_id \"ENSDARG00000052512\"\n",
    "        seq = record.seq[49653487-1:49653489] # start + ENSDARG00000052512\n",
    "        print(\"+ start\", seq)\n",
    "        seq = record.seq[49653487-5:49653489+5] # start + ENSDARG00000052512\n",
    "        print(\"+ start\", seq)\n",
    "        # ensembl\tstop_codon\t49673886\t49673888\t.\t+\t0\tgene_id \"ENSDARG00000052512\"\n",
    "        seq = record.seq[49673886-1:49673888] # start + ENSDARG00000052512\n",
    "        print(\"+ end\", seq)\n",
    "        seq = record.seq[49673886-5:49673888+5] # start + ENSDARG00000052512\n",
    "        print(\"+ end\", seq)\n",
    "\n",
    "        # ensembl_havana\tstart_codon\t32528097\t32528099\t.\t+\t0\tgene_id \"ENSDARG00000079455\"\n",
    "        seq = record.seq[32528097-1:32528099]\n",
    "        print(\"+ start\", seq)\n",
    "        seq = record.seq[32528097-5:32528099+5]\n",
    "        print(\"+ start\", seq)\n",
    "        # ensembl_havana\tstop_codon\t32691704\t32691706\t.\t+\t0\tgene_id \"ENSDARG00000079455\"\n",
    "        seq = record.seq[32691704-1:32691706]\n",
    "        print(\"+ end\", seq)\n",
    "        seq = record.seq[32691704-5:32691706+5]\n",
    "        print(\"+ end\", seq)\n",
    "\n",
    "        # havana\tstart_codon\t24255147\t24255149\t.\t-\t0\tgene_id \"ENSDARG00000031108\"\n",
    "        seq = record.seq[24255147-1:24255149]\n",
    "        print(\"- start\", seq)\n",
    "        seq = record.seq[24255147-5:24255149+5]\n",
    "        print(\"- start\", seq)"
   ],
   "id": "e5efbe2218cd7a52",
   "outputs": [
    {
     "name": "stdout",
     "output_type": "stream",
     "text": [
      "- start CAT\n",
      "- start CGGTCATGGTTT\n",
      "- end TTA\n",
      "- end CACATTACTCCA\n",
      "+ start ATG\n",
      "+ start AGAGATGTTGAG\n",
      "+ end TGA\n",
      "+ end CGACTGAGACAC\n",
      "+ start ATG\n",
      "+ start AAACATGAGCGG\n",
      "+ end TGA\n",
      "+ end CGACTGAGACAC\n",
      "+ start ATG\n",
      "+ start GACCATGTCACG\n",
      "+ end TAG\n",
      "+ end GGTATAGCTTCT\n",
      "- start CAT\n",
      "- start AACACATAAAAA\n"
     ]
    }
   ],
   "execution_count": 1
  },
  {
   "metadata": {
    "ExecuteTime": {
     "end_time": "2025-05-29T08:35:49.276457Z",
     "start_time": "2025-05-29T08:29:49.322977Z"
    }
   },
   "cell_type": "code",
   "source": [
    "from util.gtf2df import gtf2df\n",
    "import pandas as pd\n",
    "from Bio import SeqIO\n",
    "import gzip\n",
    "import os\n",
    "\n",
    "genome_dir = \"data/zebrafishGenome\"\n",
    "gtf_file = \"data\\\\Danio_rerio.GRCz11.113.gtf\"\n",
    "df = gtf2df(gtf_file)\n",
    "df_gene_ids = pd.read_csv(\"data/all_values.txt\", sep=\",\")[\"Gene ID\"]\n",
    "counter = 0\n",
    "for id in df_gene_ids:\n",
    "    counter += 1\n",
    "    if counter % 100 == 0:\n",
    "        print(\"at counter\", counter)\n",
    "\n",
    "    gene_rows = df[df[\"gene_id\"] == id]\n",
    "    seq_id = gene_rows.iloc[0][\"seqname\"]\n",
    "    chr_file = os.path.join(genome_dir, f\"Danio_rerio.GRCz11.dna.chromosome.{seq_id}.fa.gz\")\n",
    "    with gzip.open(chr_file, \"rt\") as handle:\n",
    "        for record in SeqIO.parse(handle, \"fasta\"):\n",
    "            start_codon_rows = df[(df[\"gene_id\"] == id) & (df[\"feature\"] == \"start_codon\")]\n",
    "            stop_codon_rows = df[(df[\"gene_id\"] == id) & (df[\"feature\"] == \"stop_codon\")]\n",
    "            if start_codon_rows.empty or stop_codon_rows.empty:\n",
    "                continue\n",
    "\n",
    "            start_codon_row = start_codon_rows.iloc[0]\n",
    "            stop_codon_row = stop_codon_rows.iloc[0]\n",
    "            start_codon_start, start_codon_end = (start_codon_row.loc[\"start\"], start_codon_row.loc[\"end\"])\n",
    "            stop_codon_start, stop_codon_end = (stop_codon_row.loc[\"start\"], stop_codon_row.loc[\"end\"])\n",
    "            strand = start_codon_row.loc[\"strand\"]\n",
    "            if strand == \"+\":\n",
    "                print(\"For gene\", id, \"with strand\", strand, \"and start codon coordinates\", start_codon_start, \"and stop codon coordinates\", stop_codon_start)\n",
    "                print(\"Is start codon coordinate smaller than the stop codon coordinate?\", (start_codon_start < stop_codon_start))\n",
    "                start_codon = record.seq[start_codon_start-1:start_codon_end]\n",
    "                print(\"Starting codon\", start_codon, \"in context\", record.seq[start_codon_start-6:start_codon_end+5])\n",
    "                stop_codon = record.seq[stop_codon_start-1:stop_codon_end] # TAA, TAG, and TGA\n",
    "                print(\"Stopping codon\", stop_codon, \"in context\", record.seq[stop_codon_start-6:stop_codon_end+5])\n",
    "                print(\"\")\n",
    "            else:\n",
    "                print(\"For gene\", id, \"with strand\", strand, \"and start codon coordinates\", start_codon_start, \"and stop codon coordinates\", stop_codon_start)\n",
    "                print(\"Is start codon coordinate smaller than the stop codon coordinate?\", (start_codon_start < stop_codon_start))\n",
    "                start_codon = record.seq[start_codon_start-1:start_codon_end]\n",
    "                print(\"Starting codon\", start_codon.reverse_complement(), \"in context\", record.seq[start_codon_start-6:start_codon_end+5].reverse_complement())\n",
    "                stop_codon = record.seq[stop_codon_start-1:stop_codon_end] # TAA, TAG, and TGA\n",
    "                print(\"Stopping codon\", stop_codon.reverse_complement(), \"in context\", record.seq[stop_codon_start-6:stop_codon_end+5].reverse_complement())\n",
    "                #print(\"IN 34111839-34111839+10\")\n",
    "                #print(\"Nothing:\", record.seq[34111839:34111839+10])\n",
    "                #print(\"Reverse:\", record.seq[34111839:34111839+10][::-1])\n",
    "                #print(\"Reverse.complement:\", record.seq[34111839:34111839+10].reverse_complement())\n",
    "                print(\"\")"
   ],
   "id": "81dd36cf646bd11b",
   "outputs": [
    {
     "name": "stderr",
     "output_type": "stream",
     "text": [
      "C:\\Users\\gusta\\PycharmProjects\\ThesisPlayground\\util\\gtf2df.py:27: DtypeWarning: Columns (0) have mixed types. Specify dtype option on import or set low_memory=False.\n",
      "  df = pd.read_csv(gtf, sep='\\t', header=None, comment='#')\n"
     ]
    },
    {
     "name": "stdout",
     "output_type": "stream",
     "text": [
      "For gene ENSDARG00000000001 with strand - and start codon coordinates 34120903 and stop codon coordinates 34114749\n",
      "Is start codon coordinate smaller than the stop codon coordinate? False\n",
      "Starting codon ATG in context AGCACATGTCCTT\n",
      "Stopping codon TGA in context CTTTCTGAGTGGG\n",
      "IN 34111839-34111839+10\n",
      "Nothing: AAAAATATTG\n",
      "Reverse: GTTATAAAAA\n",
      "Reverse.complement: CAATATTTTT\n"
     ]
    },
    {
     "ename": "KeyboardInterrupt",
     "evalue": "",
     "output_type": "error",
     "traceback": [
      "\u001B[31m---------------------------------------------------------------------------\u001B[39m",
      "\u001B[31mKeyboardInterrupt\u001B[39m                         Traceback (most recent call last)",
      "\u001B[36mCell\u001B[39m\u001B[36m \u001B[39m\u001B[32mIn[5]\u001B[39m\u001B[32m, line 51\u001B[39m\n\u001B[32m     49\u001B[39m \u001B[38;5;28mprint\u001B[39m(\u001B[33m\"\u001B[39m\u001B[33mReverse:\u001B[39m\u001B[33m\"\u001B[39m, record.seq[\u001B[32m34111839\u001B[39m:\u001B[32m34111839\u001B[39m+\u001B[32m10\u001B[39m][::-\u001B[32m1\u001B[39m])\n\u001B[32m     50\u001B[39m \u001B[38;5;28mprint\u001B[39m(\u001B[33m\"\u001B[39m\u001B[33mReverse.complement:\u001B[39m\u001B[33m\"\u001B[39m, record.seq[\u001B[32m34111839\u001B[39m:\u001B[32m34111839\u001B[39m+\u001B[32m10\u001B[39m].reverse_complement())\n\u001B[32m---> \u001B[39m\u001B[32m51\u001B[39m \u001B[38;5;28;43mprint\u001B[39;49m\u001B[43m(\u001B[49m\u001B[33;43m\"\u001B[39;49m\u001B[33;43m\"\u001B[39;49m\u001B[43m)\u001B[49m\n",
      "\u001B[36mFile \u001B[39m\u001B[32m~\\PycharmProjects\\ThesisPlayground\\.venv\\Lib\\site-packages\\ipykernel\\iostream.py:694\u001B[39m, in \u001B[36mOutStream.write\u001B[39m\u001B[34m(self, string)\u001B[39m\n\u001B[32m    692\u001B[39m     \u001B[38;5;28mself\u001B[39m.pub_thread.schedule(\u001B[38;5;28mself\u001B[39m._flush)\n\u001B[32m    693\u001B[39m \u001B[38;5;28;01melse\u001B[39;00m:\n\u001B[32m--> \u001B[39m\u001B[32m694\u001B[39m     \u001B[38;5;28;43mself\u001B[39;49m\u001B[43m.\u001B[49m\u001B[43m_schedule_flush\u001B[49m\u001B[43m(\u001B[49m\u001B[43m)\u001B[49m\n\u001B[32m    696\u001B[39m \u001B[38;5;28;01mreturn\u001B[39;00m \u001B[38;5;28mlen\u001B[39m(string)\n",
      "\u001B[36mFile \u001B[39m\u001B[32m~\\PycharmProjects\\ThesisPlayground\\.venv\\Lib\\site-packages\\ipykernel\\iostream.py:590\u001B[39m, in \u001B[36mOutStream._schedule_flush\u001B[39m\u001B[34m(self)\u001B[39m\n\u001B[32m    587\u001B[39m \u001B[38;5;28;01mdef\u001B[39;00m\u001B[38;5;250m \u001B[39m\u001B[34m_schedule_in_thread\u001B[39m():\n\u001B[32m    588\u001B[39m     \u001B[38;5;28mself\u001B[39m._io_loop.call_later(\u001B[38;5;28mself\u001B[39m.flush_interval, \u001B[38;5;28mself\u001B[39m._flush)\n\u001B[32m--> \u001B[39m\u001B[32m590\u001B[39m \u001B[38;5;28;43mself\u001B[39;49m\u001B[43m.\u001B[49m\u001B[43mpub_thread\u001B[49m\u001B[43m.\u001B[49m\u001B[43mschedule\u001B[49m\u001B[43m(\u001B[49m\u001B[43m_schedule_in_thread\u001B[49m\u001B[43m)\u001B[49m\n",
      "\u001B[36mFile \u001B[39m\u001B[32m~\\PycharmProjects\\ThesisPlayground\\.venv\\Lib\\site-packages\\ipykernel\\iostream.py:267\u001B[39m, in \u001B[36mIOPubThread.schedule\u001B[39m\u001B[34m(self, f)\u001B[39m\n\u001B[32m    265\u001B[39m     \u001B[38;5;28mself\u001B[39m._events.append(f)\n\u001B[32m    266\u001B[39m     \u001B[38;5;66;03m# wake event thread (message content is ignored)\u001B[39;00m\n\u001B[32m--> \u001B[39m\u001B[32m267\u001B[39m     \u001B[38;5;28;43mself\u001B[39;49m\u001B[43m.\u001B[49m\u001B[43m_event_pipe\u001B[49m\u001B[43m.\u001B[49m\u001B[43msend\u001B[49m\u001B[43m(\u001B[49m\u001B[33;43mb\u001B[39;49m\u001B[33;43m\"\u001B[39;49m\u001B[33;43m\"\u001B[39;49m\u001B[43m)\u001B[49m\n\u001B[32m    268\u001B[39m \u001B[38;5;28;01melse\u001B[39;00m:\n\u001B[32m    269\u001B[39m     f()\n",
      "\u001B[36mFile \u001B[39m\u001B[32m~\\PycharmProjects\\ThesisPlayground\\.venv\\Lib\\site-packages\\zmq\\sugar\\socket.py:698\u001B[39m, in \u001B[36mSocket.send\u001B[39m\u001B[34m(self, data, flags, copy, track, routing_id, group)\u001B[39m\n\u001B[32m    691\u001B[39m         data = zmq.Frame(\n\u001B[32m    692\u001B[39m             data,\n\u001B[32m    693\u001B[39m             track=track,\n\u001B[32m    694\u001B[39m             copy=copy \u001B[38;5;129;01mor\u001B[39;00m \u001B[38;5;28;01mNone\u001B[39;00m,\n\u001B[32m    695\u001B[39m             copy_threshold=\u001B[38;5;28mself\u001B[39m.copy_threshold,\n\u001B[32m    696\u001B[39m         )\n\u001B[32m    697\u001B[39m     data.group = group\n\u001B[32m--> \u001B[39m\u001B[32m698\u001B[39m \u001B[38;5;28;01mreturn\u001B[39;00m \u001B[38;5;28;43msuper\u001B[39;49m\u001B[43m(\u001B[49m\u001B[43m)\u001B[49m\u001B[43m.\u001B[49m\u001B[43msend\u001B[49m\u001B[43m(\u001B[49m\u001B[43mdata\u001B[49m\u001B[43m,\u001B[49m\u001B[43m \u001B[49m\u001B[43mflags\u001B[49m\u001B[43m=\u001B[49m\u001B[43mflags\u001B[49m\u001B[43m,\u001B[49m\u001B[43m \u001B[49m\u001B[43mcopy\u001B[49m\u001B[43m=\u001B[49m\u001B[43mcopy\u001B[49m\u001B[43m,\u001B[49m\u001B[43m \u001B[49m\u001B[43mtrack\u001B[49m\u001B[43m=\u001B[49m\u001B[43mtrack\u001B[49m\u001B[43m)\u001B[49m\n",
      "\u001B[36mFile \u001B[39m\u001B[32m_zmq.py:1081\u001B[39m, in \u001B[36mzmq.backend.cython._zmq.Socket.send\u001B[39m\u001B[34m()\u001B[39m\n",
      "\u001B[36mFile \u001B[39m\u001B[32m_zmq.py:1129\u001B[39m, in \u001B[36mzmq.backend.cython._zmq.Socket.send\u001B[39m\u001B[34m()\u001B[39m\n",
      "\u001B[36mFile \u001B[39m\u001B[32m_zmq.py:1397\u001B[39m, in \u001B[36mzmq.backend.cython._zmq._send_copy\u001B[39m\u001B[34m()\u001B[39m\n",
      "\u001B[36mFile \u001B[39m\u001B[32m_zmq.py:169\u001B[39m, in \u001B[36mzmq.backend.cython._zmq._check_rc\u001B[39m\u001B[34m()\u001B[39m\n",
      "\u001B[31mKeyboardInterrupt\u001B[39m: "
     ]
    }
   ],
   "execution_count": 8
  }
 ],
 "metadata": {
  "kernelspec": {
   "display_name": "Python 3",
   "language": "python",
   "name": "python3"
  },
  "language_info": {
   "codemirror_mode": {
    "name": "ipython",
    "version": 2
   },
   "file_extension": ".py",
   "mimetype": "text/x-python",
   "name": "python",
   "nbconvert_exporter": "python",
   "pygments_lexer": "ipython2",
   "version": "2.7.6"
  }
 },
 "nbformat": 4,
 "nbformat_minor": 5
}
